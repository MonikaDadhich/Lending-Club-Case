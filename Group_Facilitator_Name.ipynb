{
 "cells": [
  {
   "cell_type": "code",
   "execution_count": 1,
   "id": "a4c36f5b-1c59-438d-b4f6-d274e3de292b",
   "metadata": {},
   "outputs": [],
   "source": [
    "# Importing Librabries and Setting options\n",
    "import pandas as pd\n",
    "import warnings\n",
    "warnings.filterwarnings('ignore')\n",
    "pd.set_option('display.max_info_columns',100)\n",
    "pd.set_option('display.max_info_rows',100)"
   ]
  },
  {
   "cell_type": "markdown",
   "id": "9bb7e48b-0e0b-4f27-af6e-c0124f83cdd0",
   "metadata": {},
   "source": [
    "# Reading Input data loan.csv"
   ]
  },
  {
   "cell_type": "code",
   "execution_count": 2,
   "id": "f2a7d7b6-8d60-4ced-9df0-81222b39c76b",
   "metadata": {},
   "outputs": [],
   "source": [
    "loan_raw = pd.read_csv(\"loan.csv\",low_memory=False)"
   ]
  },
  {
   "cell_type": "code",
   "execution_count": 3,
   "id": "81d9b09f-b9e7-49b2-b262-6dbb5ace1e5b",
   "metadata": {},
   "outputs": [
    {
     "data": {
      "text/html": [
       "<div>\n",
       "<style scoped>\n",
       "    .dataframe tbody tr th:only-of-type {\n",
       "        vertical-align: middle;\n",
       "    }\n",
       "\n",
       "    .dataframe tbody tr th {\n",
       "        vertical-align: top;\n",
       "    }\n",
       "\n",
       "    .dataframe thead th {\n",
       "        text-align: right;\n",
       "    }\n",
       "</style>\n",
       "<table border=\"1\" class=\"dataframe\">\n",
       "  <thead>\n",
       "    <tr style=\"text-align: right;\">\n",
       "      <th></th>\n",
       "      <th>id</th>\n",
       "      <th>member_id</th>\n",
       "      <th>loan_amnt</th>\n",
       "      <th>funded_amnt</th>\n",
       "      <th>funded_amnt_inv</th>\n",
       "      <th>term</th>\n",
       "      <th>int_rate</th>\n",
       "      <th>installment</th>\n",
       "      <th>grade</th>\n",
       "      <th>sub_grade</th>\n",
       "      <th>...</th>\n",
       "      <th>num_tl_90g_dpd_24m</th>\n",
       "      <th>num_tl_op_past_12m</th>\n",
       "      <th>pct_tl_nvr_dlq</th>\n",
       "      <th>percent_bc_gt_75</th>\n",
       "      <th>pub_rec_bankruptcies</th>\n",
       "      <th>tax_liens</th>\n",
       "      <th>tot_hi_cred_lim</th>\n",
       "      <th>total_bal_ex_mort</th>\n",
       "      <th>total_bc_limit</th>\n",
       "      <th>total_il_high_credit_limit</th>\n",
       "    </tr>\n",
       "  </thead>\n",
       "  <tbody>\n",
       "    <tr>\n",
       "      <th>0</th>\n",
       "      <td>1077501</td>\n",
       "      <td>1296599</td>\n",
       "      <td>5000</td>\n",
       "      <td>5000</td>\n",
       "      <td>4975.0</td>\n",
       "      <td>36 months</td>\n",
       "      <td>10.65%</td>\n",
       "      <td>162.87</td>\n",
       "      <td>B</td>\n",
       "      <td>B2</td>\n",
       "      <td>...</td>\n",
       "      <td>NaN</td>\n",
       "      <td>NaN</td>\n",
       "      <td>NaN</td>\n",
       "      <td>NaN</td>\n",
       "      <td>0.0</td>\n",
       "      <td>0.0</td>\n",
       "      <td>NaN</td>\n",
       "      <td>NaN</td>\n",
       "      <td>NaN</td>\n",
       "      <td>NaN</td>\n",
       "    </tr>\n",
       "    <tr>\n",
       "      <th>1</th>\n",
       "      <td>1077430</td>\n",
       "      <td>1314167</td>\n",
       "      <td>2500</td>\n",
       "      <td>2500</td>\n",
       "      <td>2500.0</td>\n",
       "      <td>60 months</td>\n",
       "      <td>15.27%</td>\n",
       "      <td>59.83</td>\n",
       "      <td>C</td>\n",
       "      <td>C4</td>\n",
       "      <td>...</td>\n",
       "      <td>NaN</td>\n",
       "      <td>NaN</td>\n",
       "      <td>NaN</td>\n",
       "      <td>NaN</td>\n",
       "      <td>0.0</td>\n",
       "      <td>0.0</td>\n",
       "      <td>NaN</td>\n",
       "      <td>NaN</td>\n",
       "      <td>NaN</td>\n",
       "      <td>NaN</td>\n",
       "    </tr>\n",
       "    <tr>\n",
       "      <th>2</th>\n",
       "      <td>1077175</td>\n",
       "      <td>1313524</td>\n",
       "      <td>2400</td>\n",
       "      <td>2400</td>\n",
       "      <td>2400.0</td>\n",
       "      <td>36 months</td>\n",
       "      <td>15.96%</td>\n",
       "      <td>84.33</td>\n",
       "      <td>C</td>\n",
       "      <td>C5</td>\n",
       "      <td>...</td>\n",
       "      <td>NaN</td>\n",
       "      <td>NaN</td>\n",
       "      <td>NaN</td>\n",
       "      <td>NaN</td>\n",
       "      <td>0.0</td>\n",
       "      <td>0.0</td>\n",
       "      <td>NaN</td>\n",
       "      <td>NaN</td>\n",
       "      <td>NaN</td>\n",
       "      <td>NaN</td>\n",
       "    </tr>\n",
       "    <tr>\n",
       "      <th>3</th>\n",
       "      <td>1076863</td>\n",
       "      <td>1277178</td>\n",
       "      <td>10000</td>\n",
       "      <td>10000</td>\n",
       "      <td>10000.0</td>\n",
       "      <td>36 months</td>\n",
       "      <td>13.49%</td>\n",
       "      <td>339.31</td>\n",
       "      <td>C</td>\n",
       "      <td>C1</td>\n",
       "      <td>...</td>\n",
       "      <td>NaN</td>\n",
       "      <td>NaN</td>\n",
       "      <td>NaN</td>\n",
       "      <td>NaN</td>\n",
       "      <td>0.0</td>\n",
       "      <td>0.0</td>\n",
       "      <td>NaN</td>\n",
       "      <td>NaN</td>\n",
       "      <td>NaN</td>\n",
       "      <td>NaN</td>\n",
       "    </tr>\n",
       "    <tr>\n",
       "      <th>4</th>\n",
       "      <td>1075358</td>\n",
       "      <td>1311748</td>\n",
       "      <td>3000</td>\n",
       "      <td>3000</td>\n",
       "      <td>3000.0</td>\n",
       "      <td>60 months</td>\n",
       "      <td>12.69%</td>\n",
       "      <td>67.79</td>\n",
       "      <td>B</td>\n",
       "      <td>B5</td>\n",
       "      <td>...</td>\n",
       "      <td>NaN</td>\n",
       "      <td>NaN</td>\n",
       "      <td>NaN</td>\n",
       "      <td>NaN</td>\n",
       "      <td>0.0</td>\n",
       "      <td>0.0</td>\n",
       "      <td>NaN</td>\n",
       "      <td>NaN</td>\n",
       "      <td>NaN</td>\n",
       "      <td>NaN</td>\n",
       "    </tr>\n",
       "  </tbody>\n",
       "</table>\n",
       "<p>5 rows × 111 columns</p>\n",
       "</div>"
      ],
      "text/plain": [
       "        id  member_id  loan_amnt  funded_amnt  funded_amnt_inv        term  \\\n",
       "0  1077501    1296599       5000         5000           4975.0   36 months   \n",
       "1  1077430    1314167       2500         2500           2500.0   60 months   \n",
       "2  1077175    1313524       2400         2400           2400.0   36 months   \n",
       "3  1076863    1277178      10000        10000          10000.0   36 months   \n",
       "4  1075358    1311748       3000         3000           3000.0   60 months   \n",
       "\n",
       "  int_rate  installment grade sub_grade  ... num_tl_90g_dpd_24m  \\\n",
       "0   10.65%       162.87     B        B2  ...                NaN   \n",
       "1   15.27%        59.83     C        C4  ...                NaN   \n",
       "2   15.96%        84.33     C        C5  ...                NaN   \n",
       "3   13.49%       339.31     C        C1  ...                NaN   \n",
       "4   12.69%        67.79     B        B5  ...                NaN   \n",
       "\n",
       "  num_tl_op_past_12m pct_tl_nvr_dlq  percent_bc_gt_75 pub_rec_bankruptcies  \\\n",
       "0                NaN            NaN               NaN                  0.0   \n",
       "1                NaN            NaN               NaN                  0.0   \n",
       "2                NaN            NaN               NaN                  0.0   \n",
       "3                NaN            NaN               NaN                  0.0   \n",
       "4                NaN            NaN               NaN                  0.0   \n",
       "\n",
       "  tax_liens tot_hi_cred_lim total_bal_ex_mort total_bc_limit  \\\n",
       "0       0.0             NaN               NaN            NaN   \n",
       "1       0.0             NaN               NaN            NaN   \n",
       "2       0.0             NaN               NaN            NaN   \n",
       "3       0.0             NaN               NaN            NaN   \n",
       "4       0.0             NaN               NaN            NaN   \n",
       "\n",
       "  total_il_high_credit_limit  \n",
       "0                        NaN  \n",
       "1                        NaN  \n",
       "2                        NaN  \n",
       "3                        NaN  \n",
       "4                        NaN  \n",
       "\n",
       "[5 rows x 111 columns]"
      ]
     },
     "execution_count": 3,
     "metadata": {},
     "output_type": "execute_result"
    }
   ],
   "source": [
    "loan_raw.head()"
   ]
  },
  {
   "cell_type": "code",
   "execution_count": 4,
   "id": "99987728-080c-4bf7-b104-40d5ea93b988",
   "metadata": {},
   "outputs": [
    {
     "data": {
      "text/plain": [
       "(39717, 111)"
      ]
     },
     "execution_count": 4,
     "metadata": {},
     "output_type": "execute_result"
    }
   ],
   "source": [
    "loan_raw.shape"
   ]
  },
  {
   "cell_type": "markdown",
   "id": "ca609d85-1605-4871-91c4-62036541de8e",
   "metadata": {},
   "source": [
    "# Data Cleansing"
   ]
  },
  {
   "cell_type": "code",
   "execution_count": 5,
   "id": "b55c5aa4-4e57-4c37-8717-b532944d5cf7",
   "metadata": {},
   "outputs": [
    {
     "data": {
      "text/plain": [
       "id                                0\n",
       "member_id                         0\n",
       "loan_amnt                         0\n",
       "funded_amnt                       0\n",
       "funded_amnt_inv                   0\n",
       "                              ...  \n",
       "tax_liens                        39\n",
       "tot_hi_cred_lim               39717\n",
       "total_bal_ex_mort             39717\n",
       "total_bc_limit                39717\n",
       "total_il_high_credit_limit    39717\n",
       "Length: 111, dtype: int64"
      ]
     },
     "execution_count": 5,
     "metadata": {},
     "output_type": "execute_result"
    }
   ],
   "source": [
    "# Checking columns which has all NULLS in loan.csv\n",
    "loan_raw.isnull().sum()"
   ]
  },
  {
   "cell_type": "code",
   "execution_count": 6,
   "id": "803e310f-587a-46ee-bafe-64b3d94a9403",
   "metadata": {},
   "outputs": [],
   "source": [
    "# 1st Step : Removing columns which has all NULLS in loan.csv\n",
    "loan =loan_raw.dropna(axis=1,how='all')"
   ]
  },
  {
   "cell_type": "code",
   "execution_count": null,
   "id": "f0a35c2b",
   "metadata": {},
   "outputs": [],
   "source": []
  },
  {
   "cell_type": "code",
   "execution_count": 7,
   "id": "4faf7028-af6e-41e6-9a4e-cb5d2818d3ff",
   "metadata": {},
   "outputs": [
    {
     "data": {
      "text/plain": [
       "(39717, 57)"
      ]
     },
     "execution_count": 7,
     "metadata": {},
     "output_type": "execute_result"
    }
   ],
   "source": [
    "loan.shape"
   ]
  },
  {
   "cell_type": "code",
   "execution_count": 8,
   "id": "69d9a1aa-5210-4e83-9b28-2b13854bf5d5",
   "metadata": {},
   "outputs": [
    {
     "data": {
      "text/plain": [
       "id                                0\n",
       "member_id                         0\n",
       "loan_amnt                         0\n",
       "funded_amnt                       0\n",
       "funded_amnt_inv                   0\n",
       "term                              0\n",
       "int_rate                          0\n",
       "installment                       0\n",
       "grade                             0\n",
       "sub_grade                         0\n",
       "emp_title                      2459\n",
       "emp_length                     1075\n",
       "home_ownership                    0\n",
       "annual_inc                        0\n",
       "verification_status               0\n",
       "issue_d                           0\n",
       "loan_status                       0\n",
       "pymnt_plan                        0\n",
       "url                               0\n",
       "desc                          12940\n",
       "purpose                           0\n",
       "title                            11\n",
       "zip_code                          0\n",
       "addr_state                        0\n",
       "dti                               0\n",
       "delinq_2yrs                       0\n",
       "earliest_cr_line                  0\n",
       "inq_last_6mths                    0\n",
       "mths_since_last_delinq        25682\n",
       "mths_since_last_record        36931\n",
       "open_acc                          0\n",
       "pub_rec                           0\n",
       "revol_bal                         0\n",
       "revol_util                       50\n",
       "total_acc                         0\n",
       "initial_list_status               0\n",
       "out_prncp                         0\n",
       "out_prncp_inv                     0\n",
       "total_pymnt                       0\n",
       "total_pymnt_inv                   0\n",
       "total_rec_prncp                   0\n",
       "total_rec_int                     0\n",
       "total_rec_late_fee                0\n",
       "recoveries                        0\n",
       "collection_recovery_fee           0\n",
       "last_pymnt_d                     71\n",
       "last_pymnt_amnt                   0\n",
       "next_pymnt_d                  38577\n",
       "last_credit_pull_d                2\n",
       "collections_12_mths_ex_med       56\n",
       "policy_code                       0\n",
       "application_type                  0\n",
       "acc_now_delinq                    0\n",
       "chargeoff_within_12_mths         56\n",
       "delinq_amnt                       0\n",
       "pub_rec_bankruptcies            697\n",
       "tax_liens                        39\n",
       "dtype: int64"
      ]
     },
     "execution_count": 8,
     "metadata": {},
     "output_type": "execute_result"
    }
   ],
   "source": [
    "loan.isnull().sum()"
   ]
  },
  {
   "cell_type": "code",
   "execution_count": 9,
   "id": "f9c27154",
   "metadata": {},
   "outputs": [
    {
     "name": "stdout",
     "output_type": "stream",
     "text": [
      "mths_since_last_record\n",
      "next_pymnt_d\n"
     ]
    }
   ],
   "source": [
    "# Finding those columns who are missing in between 15-30%\n",
    "# We should remove such variables as they does not have good fill rate\n",
    "for col in loan:\n",
    "    if (loan[col].count()/len(loan)) <0.30:\n",
    "        print(col)"
   ]
  },
  {
   "cell_type": "code",
   "execution_count": 10,
   "id": "510d3e58",
   "metadata": {},
   "outputs": [],
   "source": [
    "# Step 2: Removing such variables : mths_since_last_record,next_pymnt_d\n",
    "list_not_good_fill_rate = ['mths_since_last_record','next_pymnt_d']\n",
    "loan.drop(list_not_good_fill_rate,axis=1, inplace= True)"
   ]
  },
  {
   "cell_type": "code",
   "execution_count": 11,
   "id": "66cf8fb3",
   "metadata": {},
   "outputs": [],
   "source": [
    "# customer behaviour and few other variables which should not be having any influence\n",
    "# Step 3 : We should remove them too\n",
    "cust_behaviour_list = ['delinq_2yrs','earliest_cr_line','inq_last_6mths','open_acc','pub_rec','revol_bal','revol_util','total_acc','out_prncp','out_prncp_inv','total_pymnt','total_pymnt_inv','total_rec_prncp','total_rec_int','total_rec_late_fee','recoveries','collection_recovery_fee','last_pymnt_d','last_pymnt_amnt','last_credit_pull_d','application_type','desc','url','id','member_id','zip_code']\n",
    "loan.drop(cust_behaviour_list, axis=1, inplace= True)"
   ]
  },
  {
   "cell_type": "code",
   "execution_count": 12,
   "id": "290cc166",
   "metadata": {},
   "outputs": [
    {
     "data": {
      "text/plain": [
       "(39717, 29)"
      ]
     },
     "execution_count": 12,
     "metadata": {},
     "output_type": "execute_result"
    }
   ],
   "source": [
    "loan.shape"
   ]
  },
  {
   "cell_type": "code",
   "execution_count": 13,
   "id": "30568322",
   "metadata": {},
   "outputs": [
    {
     "name": "stdout",
     "output_type": "stream",
     "text": [
      "<class 'pandas.core.frame.DataFrame'>\n",
      "RangeIndex: 39717 entries, 0 to 39716\n",
      "Data columns (total 29 columns):\n",
      " #   Column                      Dtype  \n",
      "---  ------                      -----  \n",
      " 0   loan_amnt                   int64  \n",
      " 1   funded_amnt                 int64  \n",
      " 2   funded_amnt_inv             float64\n",
      " 3   term                        object \n",
      " 4   int_rate                    object \n",
      " 5   installment                 float64\n",
      " 6   grade                       object \n",
      " 7   sub_grade                   object \n",
      " 8   emp_title                   object \n",
      " 9   emp_length                  object \n",
      " 10  home_ownership              object \n",
      " 11  annual_inc                  float64\n",
      " 12  verification_status         object \n",
      " 13  issue_d                     object \n",
      " 14  loan_status                 object \n",
      " 15  pymnt_plan                  object \n",
      " 16  purpose                     object \n",
      " 17  title                       object \n",
      " 18  addr_state                  object \n",
      " 19  dti                         float64\n",
      " 20  mths_since_last_delinq      float64\n",
      " 21  initial_list_status         object \n",
      " 22  collections_12_mths_ex_med  float64\n",
      " 23  policy_code                 int64  \n",
      " 24  acc_now_delinq              int64  \n",
      " 25  chargeoff_within_12_mths    float64\n",
      " 26  delinq_amnt                 int64  \n",
      " 27  pub_rec_bankruptcies        float64\n",
      " 28  tax_liens                   float64\n",
      "dtypes: float64(9), int64(5), object(15)\n",
      "memory usage: 8.8+ MB\n"
     ]
    }
   ],
   "source": [
    "# Data type of variable that we need to analyse\n",
    "loan.info()"
   ]
  },
  {
   "cell_type": "code",
   "execution_count": 14,
   "id": "f1562532",
   "metadata": {},
   "outputs": [
    {
     "data": {
      "text/plain": [
       " 36 months    73.258302\n",
       " 60 months    26.741698\n",
       "Name: term, dtype: float64"
      ]
     },
     "execution_count": 14,
     "metadata": {},
     "output_type": "execute_result"
    }
   ],
   "source": [
    "(loan.term.value_counts()*100)/len(loan)"
   ]
  },
  {
   "cell_type": "code",
   "execution_count": 15,
   "id": "2322435b",
   "metadata": {},
   "outputs": [
    {
     "data": {
      "text/plain": [
       "10.99%    2.407030\n",
       "13.49%    2.079714\n",
       "11.49%    2.077196\n",
       "7.51%     1.981519\n",
       "7.88%     1.825415\n",
       "            ...   \n",
       "18.36%    0.002518\n",
       "16.96%    0.002518\n",
       "16.15%    0.002518\n",
       "16.01%    0.002518\n",
       "17.44%    0.002518\n",
       "Name: int_rate, Length: 371, dtype: float64"
      ]
     },
     "execution_count": 15,
     "metadata": {},
     "output_type": "execute_result"
    }
   ],
   "source": [
    "(loan.int_rate.value_counts()*100)/len(loan)"
   ]
  },
  {
   "cell_type": "code",
   "execution_count": 16,
   "id": "463c3b28",
   "metadata": {},
   "outputs": [
    {
     "data": {
      "text/plain": [
       "10+ years    22.355666\n",
       "< 1 year     11.539139\n",
       "2 years      11.048166\n",
       "3 years      10.310446\n",
       "4 years       8.651207\n",
       "5 years       8.263464\n",
       "1 year        8.157716\n",
       "6 years       5.612206\n",
       "7 years       4.464083\n",
       "8 years       3.723846\n",
       "9 years       3.167409\n",
       "Name: emp_length, dtype: float64"
      ]
     },
     "execution_count": 16,
     "metadata": {},
     "output_type": "execute_result"
    }
   ],
   "source": [
    "(loan.emp_length.value_counts()*100)/len(loan)"
   ]
  },
  {
   "cell_type": "code",
   "execution_count": 17,
   "id": "e87c484c",
   "metadata": {},
   "outputs": [],
   "source": [
    "# Employment Length is having NA in the string , we should fill it\n",
    "loan['emp_length'] = loan['emp_length'].fillna('0 Year')"
   ]
  },
  {
   "cell_type": "code",
   "execution_count": 18,
   "id": "a3b6fa1f",
   "metadata": {},
   "outputs": [
    {
     "data": {
      "text/plain": [
       "10+ years    22.355666\n",
       "< 1 year     11.539139\n",
       "2 years      11.048166\n",
       "3 years      10.310446\n",
       "4 years       8.651207\n",
       "5 years       8.263464\n",
       "1 year        8.157716\n",
       "6 years       5.612206\n",
       "7 years       4.464083\n",
       "8 years       3.723846\n",
       "9 years       3.167409\n",
       "0 Year        2.706650\n",
       "Name: emp_length, dtype: float64"
      ]
     },
     "execution_count": 18,
     "metadata": {},
     "output_type": "execute_result"
    }
   ],
   "source": [
    "(loan.emp_length.value_counts()*100)/len(loan)"
   ]
  },
  {
   "cell_type": "code",
   "execution_count": 19,
   "id": "fbee4c2b",
   "metadata": {},
   "outputs": [],
   "source": [
    "# Interest Rate is having % in the string , we should remove it and make it Numeric data type\n",
    "loan['int_rate']= loan['int_rate'].str.replace('%','')\n",
    "loan['int_rate']= pd.to_numeric(loan['int_rate'])"
   ]
  },
  {
   "cell_type": "code",
   "execution_count": 20,
   "id": "03d66a12",
   "metadata": {},
   "outputs": [
    {
     "name": "stdout",
     "output_type": "stream",
     "text": [
      "<class 'pandas.core.frame.DataFrame'>\n",
      "RangeIndex: 39717 entries, 0 to 39716\n",
      "Data columns (total 29 columns):\n",
      " #   Column                      Dtype  \n",
      "---  ------                      -----  \n",
      " 0   loan_amnt                   int64  \n",
      " 1   funded_amnt                 int64  \n",
      " 2   funded_amnt_inv             float64\n",
      " 3   term                        object \n",
      " 4   int_rate                    float64\n",
      " 5   installment                 float64\n",
      " 6   grade                       object \n",
      " 7   sub_grade                   object \n",
      " 8   emp_title                   object \n",
      " 9   emp_length                  object \n",
      " 10  home_ownership              object \n",
      " 11  annual_inc                  float64\n",
      " 12  verification_status         object \n",
      " 13  issue_d                     object \n",
      " 14  loan_status                 object \n",
      " 15  pymnt_plan                  object \n",
      " 16  purpose                     object \n",
      " 17  title                       object \n",
      " 18  addr_state                  object \n",
      " 19  dti                         float64\n",
      " 20  mths_since_last_delinq      float64\n",
      " 21  initial_list_status         object \n",
      " 22  collections_12_mths_ex_med  float64\n",
      " 23  policy_code                 int64  \n",
      " 24  acc_now_delinq              int64  \n",
      " 25  chargeoff_within_12_mths    float64\n",
      " 26  delinq_amnt                 int64  \n",
      " 27  pub_rec_bankruptcies        float64\n",
      " 28  tax_liens                   float64\n",
      "dtypes: float64(10), int64(5), object(14)\n",
      "memory usage: 8.8+ MB\n"
     ]
    }
   ],
   "source": [
    "loan.info()"
   ]
  },
  {
   "cell_type": "code",
   "execution_count": 21,
   "id": "313fa1fe",
   "metadata": {},
   "outputs": [
    {
     "data": {
      "text/plain": [
       "Unknown                            6.191303\n",
       "US Army                            0.337387\n",
       "Bank of America                    0.274442\n",
       "IBM                                0.166176\n",
       "AT&T                               0.148551\n",
       "                                     ...   \n",
       "AMEC                               0.002518\n",
       "lee county sheriff                 0.002518\n",
       "Bacon County Board of Education    0.002518\n",
       "Hotpads                            0.002518\n",
       "Evergreen Center                   0.002518\n",
       "Name: emp_title, Length: 28821, dtype: float64"
      ]
     },
     "execution_count": 21,
     "metadata": {},
     "output_type": "execute_result"
    }
   ],
   "source": [
    "loan['emp_title'] = loan['emp_title'].fillna('Unknown')"
   ]
  },
  {
   "cell_type": "code",
   "execution_count": 22,
   "id": "3458e389",
   "metadata": {},
   "outputs": [
    {
     "data": {
      "text/html": [
       "<div>\n",
       "<style scoped>\n",
       "    .dataframe tbody tr th:only-of-type {\n",
       "        vertical-align: middle;\n",
       "    }\n",
       "\n",
       "    .dataframe tbody tr th {\n",
       "        vertical-align: top;\n",
       "    }\n",
       "\n",
       "    .dataframe thead th {\n",
       "        text-align: right;\n",
       "    }\n",
       "</style>\n",
       "<table border=\"1\" class=\"dataframe\">\n",
       "  <thead>\n",
       "    <tr style=\"text-align: right;\">\n",
       "      <th></th>\n",
       "      <th>loan_amnt</th>\n",
       "      <th>funded_amnt</th>\n",
       "      <th>funded_amnt_inv</th>\n",
       "      <th>term</th>\n",
       "      <th>int_rate</th>\n",
       "      <th>installment</th>\n",
       "      <th>grade</th>\n",
       "      <th>sub_grade</th>\n",
       "      <th>emp_title</th>\n",
       "      <th>emp_length</th>\n",
       "      <th>...</th>\n",
       "      <th>dti</th>\n",
       "      <th>mths_since_last_delinq</th>\n",
       "      <th>initial_list_status</th>\n",
       "      <th>collections_12_mths_ex_med</th>\n",
       "      <th>policy_code</th>\n",
       "      <th>acc_now_delinq</th>\n",
       "      <th>chargeoff_within_12_mths</th>\n",
       "      <th>delinq_amnt</th>\n",
       "      <th>pub_rec_bankruptcies</th>\n",
       "      <th>tax_liens</th>\n",
       "    </tr>\n",
       "  </thead>\n",
       "  <tbody>\n",
       "    <tr>\n",
       "      <th>0</th>\n",
       "      <td>5000</td>\n",
       "      <td>5000</td>\n",
       "      <td>4975.0</td>\n",
       "      <td>36 months</td>\n",
       "      <td>10.65</td>\n",
       "      <td>162.87</td>\n",
       "      <td>B</td>\n",
       "      <td>B2</td>\n",
       "      <td>Unknown</td>\n",
       "      <td>10+ years</td>\n",
       "      <td>...</td>\n",
       "      <td>27.65</td>\n",
       "      <td>NaN</td>\n",
       "      <td>f</td>\n",
       "      <td>0.0</td>\n",
       "      <td>1</td>\n",
       "      <td>0</td>\n",
       "      <td>0.0</td>\n",
       "      <td>0</td>\n",
       "      <td>0.0</td>\n",
       "      <td>0.0</td>\n",
       "    </tr>\n",
       "    <tr>\n",
       "      <th>2</th>\n",
       "      <td>2400</td>\n",
       "      <td>2400</td>\n",
       "      <td>2400.0</td>\n",
       "      <td>36 months</td>\n",
       "      <td>15.96</td>\n",
       "      <td>84.33</td>\n",
       "      <td>C</td>\n",
       "      <td>C5</td>\n",
       "      <td>Unknown</td>\n",
       "      <td>10+ years</td>\n",
       "      <td>...</td>\n",
       "      <td>8.72</td>\n",
       "      <td>NaN</td>\n",
       "      <td>f</td>\n",
       "      <td>0.0</td>\n",
       "      <td>1</td>\n",
       "      <td>0</td>\n",
       "      <td>0.0</td>\n",
       "      <td>0</td>\n",
       "      <td>0.0</td>\n",
       "      <td>0.0</td>\n",
       "    </tr>\n",
       "    <tr>\n",
       "      <th>8</th>\n",
       "      <td>5600</td>\n",
       "      <td>5600</td>\n",
       "      <td>5600.0</td>\n",
       "      <td>60 months</td>\n",
       "      <td>21.28</td>\n",
       "      <td>152.39</td>\n",
       "      <td>F</td>\n",
       "      <td>F2</td>\n",
       "      <td>Unknown</td>\n",
       "      <td>4 years</td>\n",
       "      <td>...</td>\n",
       "      <td>5.55</td>\n",
       "      <td>NaN</td>\n",
       "      <td>f</td>\n",
       "      <td>0.0</td>\n",
       "      <td>1</td>\n",
       "      <td>0</td>\n",
       "      <td>0.0</td>\n",
       "      <td>0</td>\n",
       "      <td>0.0</td>\n",
       "      <td>0.0</td>\n",
       "    </tr>\n",
       "    <tr>\n",
       "      <th>30</th>\n",
       "      <td>4375</td>\n",
       "      <td>4375</td>\n",
       "      <td>4375.0</td>\n",
       "      <td>36 months</td>\n",
       "      <td>7.51</td>\n",
       "      <td>136.11</td>\n",
       "      <td>A</td>\n",
       "      <td>A3</td>\n",
       "      <td>Unknown</td>\n",
       "      <td>7 years</td>\n",
       "      <td>...</td>\n",
       "      <td>20.34</td>\n",
       "      <td>NaN</td>\n",
       "      <td>f</td>\n",
       "      <td>0.0</td>\n",
       "      <td>1</td>\n",
       "      <td>0</td>\n",
       "      <td>0.0</td>\n",
       "      <td>0</td>\n",
       "      <td>0.0</td>\n",
       "      <td>0.0</td>\n",
       "    </tr>\n",
       "    <tr>\n",
       "      <th>42</th>\n",
       "      <td>3000</td>\n",
       "      <td>3000</td>\n",
       "      <td>3000.0</td>\n",
       "      <td>36 months</td>\n",
       "      <td>18.25</td>\n",
       "      <td>108.84</td>\n",
       "      <td>D</td>\n",
       "      <td>D5</td>\n",
       "      <td>Unknown</td>\n",
       "      <td>9 years</td>\n",
       "      <td>...</td>\n",
       "      <td>17.39</td>\n",
       "      <td>NaN</td>\n",
       "      <td>f</td>\n",
       "      <td>0.0</td>\n",
       "      <td>1</td>\n",
       "      <td>0</td>\n",
       "      <td>0.0</td>\n",
       "      <td>0</td>\n",
       "      <td>0.0</td>\n",
       "      <td>0.0</td>\n",
       "    </tr>\n",
       "    <tr>\n",
       "      <th>...</th>\n",
       "      <td>...</td>\n",
       "      <td>...</td>\n",
       "      <td>...</td>\n",
       "      <td>...</td>\n",
       "      <td>...</td>\n",
       "      <td>...</td>\n",
       "      <td>...</td>\n",
       "      <td>...</td>\n",
       "      <td>...</td>\n",
       "      <td>...</td>\n",
       "      <td>...</td>\n",
       "      <td>...</td>\n",
       "      <td>...</td>\n",
       "      <td>...</td>\n",
       "      <td>...</td>\n",
       "      <td>...</td>\n",
       "      <td>...</td>\n",
       "      <td>...</td>\n",
       "      <td>...</td>\n",
       "      <td>...</td>\n",
       "      <td>...</td>\n",
       "    </tr>\n",
       "    <tr>\n",
       "      <th>39700</th>\n",
       "      <td>5400</td>\n",
       "      <td>5400</td>\n",
       "      <td>200.0</td>\n",
       "      <td>36 months</td>\n",
       "      <td>7.75</td>\n",
       "      <td>168.60</td>\n",
       "      <td>A</td>\n",
       "      <td>A3</td>\n",
       "      <td>Unknown</td>\n",
       "      <td>&lt; 1 year</td>\n",
       "      <td>...</td>\n",
       "      <td>3.00</td>\n",
       "      <td>0.0</td>\n",
       "      <td>f</td>\n",
       "      <td>NaN</td>\n",
       "      <td>1</td>\n",
       "      <td>0</td>\n",
       "      <td>NaN</td>\n",
       "      <td>0</td>\n",
       "      <td>NaN</td>\n",
       "      <td>NaN</td>\n",
       "    </tr>\n",
       "    <tr>\n",
       "      <th>39704</th>\n",
       "      <td>3000</td>\n",
       "      <td>3000</td>\n",
       "      <td>950.0</td>\n",
       "      <td>36 months</td>\n",
       "      <td>8.70</td>\n",
       "      <td>94.98</td>\n",
       "      <td>B</td>\n",
       "      <td>B1</td>\n",
       "      <td>Unknown</td>\n",
       "      <td>&lt; 1 year</td>\n",
       "      <td>...</td>\n",
       "      <td>14.54</td>\n",
       "      <td>0.0</td>\n",
       "      <td>f</td>\n",
       "      <td>NaN</td>\n",
       "      <td>1</td>\n",
       "      <td>0</td>\n",
       "      <td>NaN</td>\n",
       "      <td>0</td>\n",
       "      <td>NaN</td>\n",
       "      <td>NaN</td>\n",
       "    </tr>\n",
       "    <tr>\n",
       "      <th>39706</th>\n",
       "      <td>5000</td>\n",
       "      <td>5000</td>\n",
       "      <td>150.0</td>\n",
       "      <td>36 months</td>\n",
       "      <td>8.07</td>\n",
       "      <td>156.84</td>\n",
       "      <td>A</td>\n",
       "      <td>A4</td>\n",
       "      <td>Unknown</td>\n",
       "      <td>&lt; 1 year</td>\n",
       "      <td>...</td>\n",
       "      <td>5.55</td>\n",
       "      <td>0.0</td>\n",
       "      <td>f</td>\n",
       "      <td>NaN</td>\n",
       "      <td>1</td>\n",
       "      <td>0</td>\n",
       "      <td>NaN</td>\n",
       "      <td>0</td>\n",
       "      <td>NaN</td>\n",
       "      <td>NaN</td>\n",
       "    </tr>\n",
       "    <tr>\n",
       "      <th>39714</th>\n",
       "      <td>5000</td>\n",
       "      <td>5000</td>\n",
       "      <td>1325.0</td>\n",
       "      <td>36 months</td>\n",
       "      <td>8.07</td>\n",
       "      <td>156.84</td>\n",
       "      <td>A</td>\n",
       "      <td>A4</td>\n",
       "      <td>Unknown</td>\n",
       "      <td>&lt; 1 year</td>\n",
       "      <td>...</td>\n",
       "      <td>2.30</td>\n",
       "      <td>0.0</td>\n",
       "      <td>f</td>\n",
       "      <td>NaN</td>\n",
       "      <td>1</td>\n",
       "      <td>0</td>\n",
       "      <td>NaN</td>\n",
       "      <td>0</td>\n",
       "      <td>NaN</td>\n",
       "      <td>NaN</td>\n",
       "    </tr>\n",
       "    <tr>\n",
       "      <th>39715</th>\n",
       "      <td>5000</td>\n",
       "      <td>5000</td>\n",
       "      <td>650.0</td>\n",
       "      <td>36 months</td>\n",
       "      <td>7.43</td>\n",
       "      <td>155.38</td>\n",
       "      <td>A</td>\n",
       "      <td>A2</td>\n",
       "      <td>Unknown</td>\n",
       "      <td>&lt; 1 year</td>\n",
       "      <td>...</td>\n",
       "      <td>3.72</td>\n",
       "      <td>0.0</td>\n",
       "      <td>f</td>\n",
       "      <td>NaN</td>\n",
       "      <td>1</td>\n",
       "      <td>0</td>\n",
       "      <td>NaN</td>\n",
       "      <td>0</td>\n",
       "      <td>NaN</td>\n",
       "      <td>NaN</td>\n",
       "    </tr>\n",
       "  </tbody>\n",
       "</table>\n",
       "<p>2459 rows × 29 columns</p>\n",
       "</div>"
      ],
      "text/plain": [
       "       loan_amnt  funded_amnt  funded_amnt_inv        term  int_rate  \\\n",
       "0           5000         5000           4975.0   36 months     10.65   \n",
       "2           2400         2400           2400.0   36 months     15.96   \n",
       "8           5600         5600           5600.0   60 months     21.28   \n",
       "30          4375         4375           4375.0   36 months      7.51   \n",
       "42          3000         3000           3000.0   36 months     18.25   \n",
       "...          ...          ...              ...         ...       ...   \n",
       "39700       5400         5400            200.0   36 months      7.75   \n",
       "39704       3000         3000            950.0   36 months      8.70   \n",
       "39706       5000         5000            150.0   36 months      8.07   \n",
       "39714       5000         5000           1325.0   36 months      8.07   \n",
       "39715       5000         5000            650.0   36 months      7.43   \n",
       "\n",
       "       installment grade sub_grade emp_title emp_length  ...    dti  \\\n",
       "0           162.87     B        B2   Unknown  10+ years  ...  27.65   \n",
       "2            84.33     C        C5   Unknown  10+ years  ...   8.72   \n",
       "8           152.39     F        F2   Unknown    4 years  ...   5.55   \n",
       "30          136.11     A        A3   Unknown    7 years  ...  20.34   \n",
       "42          108.84     D        D5   Unknown    9 years  ...  17.39   \n",
       "...            ...   ...       ...       ...        ...  ...    ...   \n",
       "39700       168.60     A        A3   Unknown   < 1 year  ...   3.00   \n",
       "39704        94.98     B        B1   Unknown   < 1 year  ...  14.54   \n",
       "39706       156.84     A        A4   Unknown   < 1 year  ...   5.55   \n",
       "39714       156.84     A        A4   Unknown   < 1 year  ...   2.30   \n",
       "39715       155.38     A        A2   Unknown   < 1 year  ...   3.72   \n",
       "\n",
       "       mths_since_last_delinq initial_list_status collections_12_mths_ex_med  \\\n",
       "0                         NaN                   f                        0.0   \n",
       "2                         NaN                   f                        0.0   \n",
       "8                         NaN                   f                        0.0   \n",
       "30                        NaN                   f                        0.0   \n",
       "42                        NaN                   f                        0.0   \n",
       "...                       ...                 ...                        ...   \n",
       "39700                     0.0                   f                        NaN   \n",
       "39704                     0.0                   f                        NaN   \n",
       "39706                     0.0                   f                        NaN   \n",
       "39714                     0.0                   f                        NaN   \n",
       "39715                     0.0                   f                        NaN   \n",
       "\n",
       "      policy_code acc_now_delinq chargeoff_within_12_mths delinq_amnt  \\\n",
       "0               1              0                      0.0           0   \n",
       "2               1              0                      0.0           0   \n",
       "8               1              0                      0.0           0   \n",
       "30              1              0                      0.0           0   \n",
       "42              1              0                      0.0           0   \n",
       "...           ...            ...                      ...         ...   \n",
       "39700           1              0                      NaN           0   \n",
       "39704           1              0                      NaN           0   \n",
       "39706           1              0                      NaN           0   \n",
       "39714           1              0                      NaN           0   \n",
       "39715           1              0                      NaN           0   \n",
       "\n",
       "      pub_rec_bankruptcies  tax_liens  \n",
       "0                      0.0        0.0  \n",
       "2                      0.0        0.0  \n",
       "8                      0.0        0.0  \n",
       "30                     0.0        0.0  \n",
       "42                     0.0        0.0  \n",
       "...                    ...        ...  \n",
       "39700                  NaN        NaN  \n",
       "39704                  NaN        NaN  \n",
       "39706                  NaN        NaN  \n",
       "39714                  NaN        NaN  \n",
       "39715                  NaN        NaN  \n",
       "\n",
       "[2459 rows x 29 columns]"
      ]
     },
     "execution_count": 22,
     "metadata": {},
     "output_type": "execute_result"
    }
   ],
   "source": [
    "loan[loan['emp_title']=='Unknown']"
   ]
  },
  {
   "cell_type": "code",
   "execution_count": 23,
   "id": "d65ccd56",
   "metadata": {},
   "outputs": [
    {
     "data": {
      "text/plain": [
       "loan_amnt                         0\n",
       "funded_amnt                       0\n",
       "funded_amnt_inv                   0\n",
       "term                              0\n",
       "int_rate                          0\n",
       "installment                       0\n",
       "grade                             0\n",
       "sub_grade                         0\n",
       "emp_title                         0\n",
       "emp_length                        0\n",
       "home_ownership                    0\n",
       "annual_inc                        0\n",
       "verification_status               0\n",
       "issue_d                           0\n",
       "loan_status                       0\n",
       "pymnt_plan                        0\n",
       "purpose                           0\n",
       "title                            11\n",
       "addr_state                        0\n",
       "dti                               0\n",
       "mths_since_last_delinq        25682\n",
       "initial_list_status               0\n",
       "collections_12_mths_ex_med       56\n",
       "policy_code                       0\n",
       "acc_now_delinq                    0\n",
       "chargeoff_within_12_mths         56\n",
       "delinq_amnt                       0\n",
       "pub_rec_bankruptcies            697\n",
       "tax_liens                        39\n",
       "dtype: int64"
      ]
     },
     "execution_count": 23,
     "metadata": {},
     "output_type": "execute_result"
    }
   ],
   "source": [
    "loan.isnull().sum()"
   ]
  },
  {
   "cell_type": "code",
   "execution_count": 24,
   "id": "e036184b",
   "metadata": {},
   "outputs": [
    {
     "data": {
      "text/plain": [
       "Unknown                            6.191303\n",
       "US Army                            0.337387\n",
       "Bank of America                    0.274442\n",
       "IBM                                0.166176\n",
       "AT&T                               0.148551\n",
       "                                     ...   \n",
       "AMEC                               0.002518\n",
       "lee county sheriff                 0.002518\n",
       "Bacon County Board of Education    0.002518\n",
       "Hotpads                            0.002518\n",
       "Evergreen Center                   0.002518\n",
       "Name: emp_title, Length: 28821, dtype: float64"
      ]
     },
     "execution_count": 24,
     "metadata": {},
     "output_type": "execute_result"
    }
   ],
   "source": [
    "(loan.emp_title.value_counts()*100)/len(loan)"
   ]
  },
  {
   "cell_type": "code",
   "execution_count": 27,
   "id": "9a4efe32",
   "metadata": {},
   "outputs": [
    {
     "data": {
      "text/plain": [
       "0        Dec-11\n",
       "1        Dec-11\n",
       "2        Dec-11\n",
       "3        Dec-11\n",
       "4        Dec-11\n",
       "          ...  \n",
       "39712    Jul-07\n",
       "39713    Jul-07\n",
       "39714    Jul-07\n",
       "39715    Jul-07\n",
       "39716    Jun-07\n",
       "Name: issue_d, Length: 39717, dtype: object"
      ]
     },
     "execution_count": 27,
     "metadata": {},
     "output_type": "execute_result"
    }
   ],
   "source": [
    "loan['issue_d']"
   ]
  },
  {
   "cell_type": "code",
   "execution_count": 28,
   "id": "019ba219",
   "metadata": {},
   "outputs": [
    {
     "data": {
      "text/plain": [
       "debt_consolidation    46.934562\n",
       "credit_card           12.916383\n",
       "other                 10.053629\n",
       "home_improvement       7.493013\n",
       "major_purchase         5.506458\n",
       "small_business         4.602563\n",
       "car                    3.900093\n",
       "wedding                2.384369\n",
       "medical                1.744845\n",
       "moving                 1.467885\n",
       "vacation               0.959287\n",
       "house                  0.959287\n",
       "educational            0.818289\n",
       "renewable_energy       0.259335\n",
       "Name: purpose, dtype: float64"
      ]
     },
     "execution_count": 28,
     "metadata": {},
     "output_type": "execute_result"
    }
   ],
   "source": [
    "(loan.purpose.value_counts()*100)/len(loan)"
   ]
  },
  {
   "cell_type": "code",
   "execution_count": 29,
   "id": "26bf3ccb",
   "metadata": {},
   "outputs": [],
   "source": [
    "duplicate = loan[loan.duplicated()]"
   ]
  },
  {
   "cell_type": "code",
   "execution_count": 30,
   "id": "4abe9b84",
   "metadata": {},
   "outputs": [
    {
     "data": {
      "text/plain": [
       "(0, 29)"
      ]
     },
     "execution_count": 30,
     "metadata": {},
     "output_type": "execute_result"
    }
   ],
   "source": [
    "duplicate.shape"
   ]
  },
  {
   "cell_type": "code",
   "execution_count": null,
   "id": "09619c60",
   "metadata": {},
   "outputs": [],
   "source": [
    "# List which we discussed should not be in final list - policy_code(It has all 1),collections_12_mths_ex_med(Very low fill rate)\n",
    "# initial_list_status (only have f),acc_now_delinq(It has only 0), chargeoff_within_12_mths (It has only 0 and NA), delinq_amnt(all 0)"
   ]
  },
  {
   "cell_type": "code",
   "execution_count": 31,
   "id": "5eb87b41",
   "metadata": {},
   "outputs": [
    {
     "name": "stdout",
     "output_type": "stream",
     "text": [
      "<class 'pandas.core.frame.DataFrame'>\n",
      "RangeIndex: 39717 entries, 0 to 39716\n",
      "Data columns (total 29 columns):\n",
      " #   Column                      Dtype  \n",
      "---  ------                      -----  \n",
      " 0   loan_amnt                   int64  \n",
      " 1   funded_amnt                 int64  \n",
      " 2   funded_amnt_inv             float64\n",
      " 3   term                        object \n",
      " 4   int_rate                    float64\n",
      " 5   installment                 float64\n",
      " 6   grade                       object \n",
      " 7   sub_grade                   object \n",
      " 8   emp_title                   object \n",
      " 9   emp_length                  object \n",
      " 10  home_ownership              object \n",
      " 11  annual_inc                  float64\n",
      " 12  verification_status         object \n",
      " 13  issue_d                     object \n",
      " 14  loan_status                 object \n",
      " 15  pymnt_plan                  object \n",
      " 16  purpose                     object \n",
      " 17  title                       object \n",
      " 18  addr_state                  object \n",
      " 19  dti                         float64\n",
      " 20  mths_since_last_delinq      float64\n",
      " 21  initial_list_status         object \n",
      " 22  collections_12_mths_ex_med  float64\n",
      " 23  policy_code                 int64  \n",
      " 24  acc_now_delinq              int64  \n",
      " 25  chargeoff_within_12_mths    float64\n",
      " 26  delinq_amnt                 int64  \n",
      " 27  pub_rec_bankruptcies        float64\n",
      " 28  tax_liens                   float64\n",
      "dtypes: float64(10), int64(5), object(14)\n",
      "memory usage: 8.8+ MB\n"
     ]
    }
   ],
   "source": [
    "loan.info()"
   ]
  },
  {
   "cell_type": "code",
   "execution_count": 32,
   "id": "bdf99dc8",
   "metadata": {},
   "outputs": [
    {
     "data": {
      "text/plain": [
       "0.0    94.012639\n",
       "1.0     4.214820\n",
       "2.0     0.017625\n",
       "Name: pub_rec_bankruptcies, dtype: float64"
      ]
     },
     "execution_count": 32,
     "metadata": {},
     "output_type": "execute_result"
    }
   ],
   "source": [
    "(loan.pub_rec_bankruptcies.value_counts()*100)/len(loan)"
   ]
  },
  {
   "cell_type": "code",
   "execution_count": 33,
   "id": "eba5aa83",
   "metadata": {},
   "outputs": [
    {
     "data": {
      "text/plain": [
       "Fully Paid     82.961956\n",
       "Charged Off    14.167737\n",
       "Current         2.870307\n",
       "Name: loan_status, dtype: float64"
      ]
     },
     "execution_count": 33,
     "metadata": {},
     "output_type": "execute_result"
    }
   ],
   "source": [
    "(loan.loan_status.value_counts()*100)/len(loan)"
   ]
  },
  {
   "cell_type": "code",
   "execution_count": 25,
   "id": "200da92b-db13-4d1f-8654-5844aaa8900a",
   "metadata": {},
   "outputs": [
    {
     "data": {
      "text/plain": [
       "Fully Paid     82.961956\n",
       "Charged Off    14.167737\n",
       "Current         2.870307\n",
       "Name: loan_status, dtype: float64"
      ]
     },
     "execution_count": 25,
     "metadata": {},
     "output_type": "execute_result"
    }
   ],
   "source": [
    "(loan.loan_status.value_counts()*100)/len(loan)"
   ]
  },
  {
   "cell_type": "code",
   "execution_count": 26,
   "id": "c336bdf1-fbd3-48de-bad8-07f7af756a05",
   "metadata": {},
   "outputs": [],
   "source": [
    "# customer behaviour"
   ]
  }
 ],
 "metadata": {
  "kernelspec": {
   "display_name": "Python 3 (ipykernel)",
   "language": "python",
   "name": "python3"
  },
  "language_info": {
   "codemirror_mode": {
    "name": "ipython",
    "version": 3
   },
   "file_extension": ".py",
   "mimetype": "text/x-python",
   "name": "python",
   "nbconvert_exporter": "python",
   "pygments_lexer": "ipython3",
   "version": "3.9.13"
  }
 },
 "nbformat": 4,
 "nbformat_minor": 5
}
